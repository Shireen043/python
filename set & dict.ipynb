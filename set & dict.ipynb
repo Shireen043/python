{
 "cells": [
  {
   "cell_type": "markdown",
   "id": "ba7a7e80-e004-4525-95d6-55b2662c0c00",
   "metadata": {},
   "source": [
    "# set continuation"
   ]
  },
  {
   "cell_type": "code",
   "execution_count": 1,
   "id": "23de2c4e-2e18-4658-b64b-66f70f882c28",
   "metadata": {},
   "outputs": [],
   "source": [
    "a = {1,2,3,4,5}\n",
    "b = {4,5,6,7,8}\n",
    "c = {8,9,10}"
   ]
  },
  {
   "cell_type": "code",
   "execution_count": 2,
   "id": "1314dc10-04c5-47c4-9b13-b0694e36b150",
   "metadata": {},
   "outputs": [
    {
     "data": {
      "text/plain": [
       "set"
      ]
     },
     "execution_count": 2,
     "metadata": {},
     "output_type": "execute_result"
    }
   ],
   "source": [
    "type(c)"
   ]
  },
  {
   "cell_type": "code",
   "execution_count": 3,
   "id": "f864cd9c-fa56-40ac-ad72-0c97d585a1e8",
   "metadata": {},
   "outputs": [
    {
     "data": {
      "text/plain": [
       "{1, 2, 3, 4, 5, 6, 7, 8}"
      ]
     },
     "execution_count": 3,
     "metadata": {},
     "output_type": "execute_result"
    }
   ],
   "source": [
    "a.union(b)\n"
   ]
  },
  {
   "cell_type": "code",
   "execution_count": 4,
   "id": "0d05e821-8022-4f0f-bf9d-24d02c8c6740",
   "metadata": {},
   "outputs": [
    {
     "name": "stdout",
     "output_type": "stream",
     "text": [
      "{1, 2, 3, 4, 5}\n",
      "{4, 5, 6, 7, 8}\n",
      "{8, 9, 10}\n"
     ]
    }
   ],
   "source": [
    "print(a)\n",
    "print(b)\n",
    "print(c)"
   ]
  },
  {
   "cell_type": "code",
   "execution_count": 5,
   "id": "0d2a6d72-29ed-4d2b-8757-c0469a76788d",
   "metadata": {},
   "outputs": [],
   "source": [
    "a.update(b)"
   ]
  },
  {
   "cell_type": "code",
   "execution_count": 6,
   "id": "d0b19b91-979e-4cb9-99f0-30ab6fa7f8b1",
   "metadata": {},
   "outputs": [
    {
     "data": {
      "text/plain": [
       "{1, 2, 3, 4, 5, 6, 7, 8}"
      ]
     },
     "execution_count": 6,
     "metadata": {},
     "output_type": "execute_result"
    }
   ],
   "source": [
    "d_union=a.union(b)\n",
    "d_union"
   ]
  },
  {
   "cell_type": "code",
   "execution_count": 7,
   "id": "9f697ca6-0974-45d6-8871-d36ebcf0c991",
   "metadata": {},
   "outputs": [
    {
     "name": "stdout",
     "output_type": "stream",
     "text": [
      "{1, 2, 3, 4, 5, 6, 7, 8}\n",
      "{4, 5, 6, 7, 8}\n",
      "{8, 9, 10}\n",
      "{1, 2, 3, 4, 5, 6, 7, 8}\n"
     ]
    }
   ],
   "source": [
    "print(a)\n",
    "print(b)\n",
    "print(c)\n",
    "print(d_union)"
   ]
  },
  {
   "cell_type": "code",
   "execution_count": 8,
   "id": "f9fbf2dd-d524-4c14-91df-4563ce251df3",
   "metadata": {},
   "outputs": [
    {
     "data": {
      "text/plain": [
       "{1, 2, 3, 4, 5, 6, 7, 8, 9, 10}"
      ]
     },
     "execution_count": 8,
     "metadata": {},
     "output_type": "execute_result"
    }
   ],
   "source": [
    "b.union(a,c)"
   ]
  },
  {
   "cell_type": "code",
   "execution_count": 9,
   "id": "3fc3ab8b-3c5d-4375-a210-da9f8241ba1e",
   "metadata": {},
   "outputs": [],
   "source": [
    "a.update(b)"
   ]
  },
  {
   "cell_type": "code",
   "execution_count": 10,
   "id": "8f5c5ca4-feaa-4f71-86b7-db547470d29d",
   "metadata": {},
   "outputs": [
    {
     "name": "stdout",
     "output_type": "stream",
     "text": [
      "{1, 2, 3, 4, 5, 6, 7, 8}\n",
      "{4, 5, 6, 7, 8}\n",
      "{8, 9, 10}\n",
      "{1, 2, 3, 4, 5, 6, 7, 8}\n"
     ]
    }
   ],
   "source": [
    "print(a)\n",
    "print(b)\n",
    "print(c)\n",
    "print(d_union)"
   ]
  },
  {
   "cell_type": "code",
   "execution_count": 11,
   "id": "9a884a68-2be4-403f-99ba-2be3c9928ba6",
   "metadata": {},
   "outputs": [
    {
     "name": "stdout",
     "output_type": "stream",
     "text": [
      "{4, 5, 6, 7, 8, 9, 10}\n"
     ]
    }
   ],
   "source": [
    "c.update(b)\n",
    "print(c)"
   ]
  },
  {
   "cell_type": "code",
   "execution_count": 12,
   "id": "505839a1-1416-43db-8505-8d04af7aa259",
   "metadata": {},
   "outputs": [
    {
     "ename": "TypeError",
     "evalue": "'int' object is not iterable",
     "output_type": "error",
     "traceback": [
      "\u001b[1;31m---------------------------------------------------------------------------\u001b[0m",
      "\u001b[1;31mTypeError\u001b[0m                                 Traceback (most recent call last)",
      "Cell \u001b[1;32mIn[12], line 1\u001b[0m\n\u001b[1;32m----> 1\u001b[0m c\u001b[38;5;241m.\u001b[39mupdate(\u001b[38;5;241m4\u001b[39m)\n",
      "\u001b[1;31mTypeError\u001b[0m: 'int' object is not iterable"
     ]
    }
   ],
   "source": [
    "c.update(4)"
   ]
  },
  {
   "cell_type": "code",
   "execution_count": 13,
   "id": "c42477e8-3d44-4e52-9606-3f43f86cc996",
   "metadata": {},
   "outputs": [],
   "source": [
    "a1 = {1,2,3,4,5}\n",
    "b1 = {4,5,6,7,8}\n",
    "c1 = {8,9,10}"
   ]
  },
  {
   "cell_type": "code",
   "execution_count": null,
   "id": "2ffd9aba-cf48-4301-8738-9a16701f85f3",
   "metadata": {},
   "outputs": [],
   "source": [
    "a1.intersection(b)"
   ]
  },
  {
   "cell_type": "code",
   "execution_count": null,
   "id": "e695b81b-1a72-4a7e-ae0f-5e09cc1ee154",
   "metadata": {},
   "outputs": [],
   "source": [
    "a1&b1"
   ]
  },
  {
   "cell_type": "code",
   "execution_count": null,
   "id": "cad7be31-2e1a-44c2-b192-a8dde4f7f15f",
   "metadata": {},
   "outputs": [],
   "source": [
    "a1 | b1"
   ]
  },
  {
   "cell_type": "code",
   "execution_count": null,
   "id": "8bf3e75c-13fe-4433-a2d4-d480460d562e",
   "metadata": {},
   "outputs": [],
   "source": [
    "b1&c1"
   ]
  },
  {
   "cell_type": "code",
   "execution_count": null,
   "id": "279b3733-ffba-4d24-beff-d9fab56595a5",
   "metadata": {},
   "outputs": [],
   "source": [
    "a2 = {1,2,3,4,5}\n",
    "b2 = {4,5,6,7,8}\n",
    "c2 = {8,9,10}"
   ]
  },
  {
   "cell_type": "code",
   "execution_count": null,
   "id": "7bc9e72d-1763-4417-9880-dd9c460ec5bb",
   "metadata": {},
   "outputs": [],
   "source": [
    "a2-b2"
   ]
  },
  {
   "cell_type": "code",
   "execution_count": null,
   "id": "f4a77352-8242-4f45-aa28-0591179e7ee3",
   "metadata": {},
   "outputs": [],
   "source": [
    "b2-c2"
   ]
  },
  {
   "cell_type": "code",
   "execution_count": null,
   "id": "5711044f-ea37-460f-b1fb-43a28ef1bcba",
   "metadata": {},
   "outputs": [],
   "source": [
    "b2-a2"
   ]
  },
  {
   "cell_type": "code",
   "execution_count": null,
   "id": "dbe34bcc-d7f9-4981-b2f9-aef2c498db46",
   "metadata": {},
   "outputs": [],
   "source": [
    "a2-c2"
   ]
  },
  {
   "cell_type": "code",
   "execution_count": null,
   "id": "32e75ad7-ff94-4171-8a29-473ce0fc332a",
   "metadata": {},
   "outputs": [],
   "source": [
    "a2 = {1,2,3,4,5}\n",
    "b2 = {4,5,6,7,8}\n",
    "c2 = {8,9,10}"
   ]
  },
  {
   "cell_type": "code",
   "execution_count": null,
   "id": "4c51d8ae-f712-4507-927e-895c909e9898",
   "metadata": {},
   "outputs": [],
   "source": [
    "a2.symmetric_difference(b2)"
   ]
  },
  {
   "cell_type": "code",
   "execution_count": null,
   "id": "fca35c0c-a409-4353-bb9a-0ff01a7b266f",
   "metadata": {},
   "outputs": [],
   "source": [
    "b2.symmetric_difference(c2)"
   ]
  },
  {
   "cell_type": "code",
   "execution_count": null,
   "id": "4dbb0e8d-9abc-4d15-9c28-42aa6c30a7ce",
   "metadata": {},
   "outputs": [],
   "source": [
    "a={1,2,3,4,5,6,7,8}\n",
    "a"
   ]
  },
  {
   "cell_type": "code",
   "execution_count": null,
   "id": "5c748558-6f7d-4427-90a2-a3434145851d",
   "metadata": {},
   "outputs": [],
   "source": [
    "for i in a:\n",
    "    print(i)"
   ]
  },
  {
   "cell_type": "code",
   "execution_count": null,
   "id": "d9cc998f-3561-497d-a518-2c4e57a4e6b2",
   "metadata": {},
   "outputs": [],
   "source": [
    "for i in enumerate(a):\n",
    "    print(i)\n",
    " "
   ]
  },
  {
   "cell_type": "code",
   "execution_count": null,
   "id": "ffd9e1dc-0978-4800-a482-a30f907f8576",
   "metadata": {},
   "outputs": [],
   "source": [
    "a5 = {1,2,3,4,5,6,7,8,9}\n",
    "b5=  {3,4,5,6,7,8}\n",
    "c5 = {10,20,30,40}"
   ]
  },
  {
   "cell_type": "code",
   "execution_count": null,
   "id": "6f9d8ab5-60dc-4727-b8f9-04707152a24a",
   "metadata": {},
   "outputs": [],
   "source": [
    "a5.issuperset(b5)"
   ]
  },
  {
   "cell_type": "code",
   "execution_count": null,
   "id": "847cb0b3-8512-4994-8abd-bba19b0d2907",
   "metadata": {},
   "outputs": [],
   "source": [
    "a5.issuperset(b5)"
   ]
  },
  {
   "cell_type": "code",
   "execution_count": null,
   "id": "872f8023-3b2d-48db-aa40-9b1db82dd466",
   "metadata": {},
   "outputs": [],
   "source": [
    "a5.issubset(b5)"
   ]
  },
  {
   "cell_type": "code",
   "execution_count": null,
   "id": "89295316-fd53-4970-a6de-15faaf96297d",
   "metadata": {},
   "outputs": [],
   "source": [
    "a5.isdisjoint(c5)"
   ]
  },
  {
   "cell_type": "code",
   "execution_count": null,
   "id": "53191a3f-c2d5-4724-a19a-4047fdc15f74",
   "metadata": {},
   "outputs": [],
   "source": [
    "a6 = {1,2,3,4,}\n",
    "b6=  {5,6,7,8}\n",
    "c6 = {10,20,30,40}"
   ]
  },
  {
   "cell_type": "code",
   "execution_count": null,
   "id": "7adf2954-d55b-45ac-bbfc-30e45e8e6d7f",
   "metadata": {},
   "outputs": [],
   "source": [
    "a6.issuperset(b6)"
   ]
  },
  {
   "cell_type": "code",
   "execution_count": null,
   "id": "63ff08b1-2f84-46f6-adb5-dc174529534b",
   "metadata": {},
   "outputs": [],
   "source": [
    "a6.issubset(b6)"
   ]
  },
  {
   "cell_type": "code",
   "execution_count": null,
   "id": "054656a7-af1e-480a-aaaf-e2721a38cd85",
   "metadata": {},
   "outputs": [],
   "source": [
    "a6.isdisjoint(c6)"
   ]
  },
  {
   "cell_type": "code",
   "execution_count": null,
   "id": "6c942b4a-5eb4-47bd-b27f-62ab68df90c9",
   "metadata": {},
   "outputs": [],
   "source": [
    "a"
   ]
  },
  {
   "cell_type": "code",
   "execution_count": null,
   "id": "97b85baa-6143-4fa6-beb4-c7312414d5ce",
   "metadata": {},
   "outputs": [],
   "source": [
    "sum(a)\n"
   ]
  },
  {
   "cell_type": "code",
   "execution_count": null,
   "id": "ebde6155-6aa0-4b18-9814-5734e50e93bb",
   "metadata": {},
   "outputs": [],
   "source": [
    "max(a)"
   ]
  },
  {
   "cell_type": "code",
   "execution_count": null,
   "id": "475d7c4f-0c1b-4073-b584-17d0321b89da",
   "metadata": {},
   "outputs": [],
   "source": [
    "min(a)"
   ]
  },
  {
   "cell_type": "code",
   "execution_count": null,
   "id": "c4ab0cab-f3e2-411b-bdf0-1da2979fa34f",
   "metadata": {},
   "outputs": [],
   "source": [
    "len(a)"
   ]
  },
  {
   "cell_type": "code",
   "execution_count": null,
   "id": "ab921acd-5079-45e1-a14f-0617dff62abb",
   "metadata": {},
   "outputs": [],
   "source": [
    "list(enumerate(a))"
   ]
  },
  {
   "cell_type": "markdown",
   "id": "316068d9-2f0e-479a-9d22-2ab1a8c4822f",
   "metadata": {},
   "source": [
    "# done with set data structure"
   ]
  },
  {
   "cell_type": "markdown",
   "id": "e9daa4bc-38e1-4aee-acb7-8a64750cffc9",
   "metadata": {},
   "source": [
    "# work on dictionary ( dict) data structure"
   ]
  },
  {
   "cell_type": "code",
   "execution_count": null,
   "id": "2333b286-814e-4fbd-94ce-be187f2dcfaa",
   "metadata": {},
   "outputs": [],
   "source": [
    "d={}\n",
    "type(d)"
   ]
  },
  {
   "cell_type": "code",
   "execution_count": null,
   "id": "980a78bc-ea02-46c0-9f01-be4ceedffa1b",
   "metadata": {},
   "outputs": [],
   "source": [
    "d = {1:'one' , 2: 'two', 3:'three' , 4: 'four' ,5: 'five'}\n",
    "d"
   ]
  },
  {
   "cell_type": "code",
   "execution_count": null,
   "id": "68e07628-b056-479b-a70e-885a7ab4354a",
   "metadata": {},
   "outputs": [],
   "source": [
    "d1 = { 'six' : 6 , 'seven':7, 'eight':8, 'nine':9,'ten':10}\n",
    "d1"
   ]
  },
  {
   "cell_type": "code",
   "execution_count": null,
   "id": "ae1b7f38-a3ff-46f3-9f47-ac30d638fe1d",
   "metadata": {},
   "outputs": [],
   "source": [
    "d1[1]"
   ]
  },
  {
   "cell_type": "code",
   "execution_count": null,
   "id": "444ddf79-a05a-4ac5-942f-01246ee2827c",
   "metadata": {},
   "outputs": [],
   "source": [
    "d1['six']"
   ]
  },
  {
   "cell_type": "code",
   "execution_count": null,
   "id": "76543fb2-a856-4e6c-8da1-1493e39d4bf9",
   "metadata": {},
   "outputs": [],
   "source": [
    "d[4]"
   ]
  },
  {
   "cell_type": "code",
   "execution_count": null,
   "id": "d8895c9e-c0f8-4ee5-bff2-f9e094ec18a0",
   "metadata": {},
   "outputs": [],
   "source": [
    "d"
   ]
  },
  {
   "cell_type": "code",
   "execution_count": null,
   "id": "d2615f95-0106-4d12-ab1c-84619c28b2b7",
   "metadata": {},
   "outputs": [],
   "source": [
    "d1"
   ]
  },
  {
   "cell_type": "code",
   "execution_count": null,
   "id": "78b2f274-97d1-4687-a406-a749463a748d",
   "metadata": {},
   "outputs": [],
   "source": [
    "d.keys()"
   ]
  },
  {
   "cell_type": "code",
   "execution_count": null,
   "id": "99363cdf-064e-45da-8313-0e8f65b12af6",
   "metadata": {},
   "outputs": [],
   "source": [
    "d.values()"
   ]
  },
  {
   "cell_type": "code",
   "execution_count": null,
   "id": "cb2e54f5-e368-431e-a3d7-1ed559e71638",
   "metadata": {},
   "outputs": [],
   "source": [
    "d2={1:3.0,'nit':5,True:False,3+2j:4}\n",
    "d2"
   ]
  },
  {
   "cell_type": "code",
   "execution_count": null,
   "id": "e8ded5b0-7f80-4518-aa5e-802c8b915f43",
   "metadata": {},
   "outputs": [],
   "source": [
    "d"
   ]
  },
  {
   "cell_type": "code",
   "execution_count": null,
   "id": "67609ff2-6cfa-4731-908b-b635808671e2",
   "metadata": {},
   "outputs": [],
   "source": [
    "d.items()"
   ]
  },
  {
   "cell_type": "code",
   "execution_count": null,
   "id": "d51e9f24-c584-42d8-b2e3-995ae7aa1b6b",
   "metadata": {},
   "outputs": [],
   "source": [
    "len(d.items())"
   ]
  },
  {
   "cell_type": "code",
   "execution_count": null,
   "id": "3e945d8c-c94a-427e-94ad-ea36769dfacb",
   "metadata": {},
   "outputs": [],
   "source": [
    "id(d)"
   ]
  },
  {
   "cell_type": "code",
   "execution_count": null,
   "id": "788e8f2d-261f-4430-82e6-c6384882892a",
   "metadata": {},
   "outputs": [],
   "source": [
    "a"
   ]
  },
  {
   "cell_type": "code",
   "execution_count": null,
   "id": "a29e0a16-024f-42a7-8bd7-106590cbc269",
   "metadata": {},
   "outputs": [],
   "source": [
    "d"
   ]
  },
  {
   "cell_type": "code",
   "execution_count": null,
   "id": "c59c0477-20b5-4680-9235-a5534b0df566",
   "metadata": {},
   "outputs": [],
   "source": [
    "d.pop(2)"
   ]
  },
  {
   "cell_type": "code",
   "execution_count": null,
   "id": "d657ae95-09df-4525-805e-53c3bc6d3051",
   "metadata": {},
   "outputs": [],
   "source": [
    "d"
   ]
  },
  {
   "cell_type": "code",
   "execution_count": null,
   "id": "aaf4de05-c9d4-4172-9e94-40b7db0af7ef",
   "metadata": {},
   "outputs": [],
   "source": [
    "d[1]='one'"
   ]
  },
  {
   "cell_type": "code",
   "execution_count": null,
   "id": "8711ee35-f91b-478e-9f8e-c2de35e68fdd",
   "metadata": {},
   "outputs": [],
   "source": [
    "d"
   ]
  },
  {
   "cell_type": "code",
   "execution_count": null,
   "id": "85336bce-b87c-4b15-b507-03364e8edb3f",
   "metadata": {},
   "outputs": [],
   "source": [
    "d[2]='two'"
   ]
  },
  {
   "cell_type": "code",
   "execution_count": null,
   "id": "f1314efa-f1e8-4d19-9daa-f9fcee5194bd",
   "metadata": {},
   "outputs": [],
   "source": [
    "d"
   ]
  },
  {
   "cell_type": "code",
   "execution_count": null,
   "id": "7cd59d68-bc28-4d31-83b2-ad30ccb42885",
   "metadata": {},
   "outputs": [],
   "source": [
    "for i in d:\n",
    "    print(i)"
   ]
  },
  {
   "cell_type": "code",
   "execution_count": null,
   "id": "82f1967f-76d9-4e52-884d-7ccf8b5f8256",
   "metadata": {},
   "outputs": [],
   "source": [
    "for i in d:\n",
    "    print(i,' : ' ,d[i])"
   ]
  },
  {
   "cell_type": "markdown",
   "id": "ae1f86cd-636a-48d0-acd4-2ebd96d3ddbf",
   "metadata": {},
   "source": [
    "# done with dictionary data structure"
   ]
  },
  {
   "cell_type": "code",
   "execution_count": 1,
   "id": "b7450ad9-d368-43a2-b46d-0f0145e83a9d",
   "metadata": {},
   "outputs": [],
   "source": [
    "l6=[1,'mango',2.3,True,2+3j]"
   ]
  },
  {
   "cell_type": "code",
   "execution_count": 2,
   "id": "5daf291a-228e-4be1-9165-f7db6f8e6020",
   "metadata": {},
   "outputs": [
    {
     "data": {
      "text/plain": [
       "[1, 'mango', 2.3, True, (2+3j)]"
      ]
     },
     "execution_count": 2,
     "metadata": {},
     "output_type": "execute_result"
    }
   ],
   "source": [
    "l6"
   ]
  },
  {
   "cell_type": "code",
   "execution_count": 3,
   "id": "7e9d846e-d4b7-4330-94fa-8da74b8cc058",
   "metadata": {},
   "outputs": [],
   "source": [
    "l6.append(2)"
   ]
  },
  {
   "cell_type": "code",
   "execution_count": 4,
   "id": "0eb1ded8-beb4-402a-8b5c-71a29dcb4874",
   "metadata": {},
   "outputs": [
    {
     "data": {
      "text/plain": [
       "[1, 'mango', 2.3, True, (2+3j), 2]"
      ]
     },
     "execution_count": 4,
     "metadata": {},
     "output_type": "execute_result"
    }
   ],
   "source": [
    "l6"
   ]
  },
  {
   "cell_type": "code",
   "execution_count": 5,
   "id": "94fd6dcb-5620-4954-a3ae-0551fd8c4c4f",
   "metadata": {},
   "outputs": [
    {
     "data": {
      "text/plain": [
       "()"
      ]
     },
     "execution_count": 5,
     "metadata": {},
     "output_type": "execute_result"
    }
   ],
   "source": [
    "t=()\n",
    "t"
   ]
  },
  {
   "cell_type": "code",
   "execution_count": 7,
   "id": "1c9c9b80-419e-43c7-b377-649f38060956",
   "metadata": {},
   "outputs": [
    {
     "data": {
      "text/plain": [
       "(1, 2, 3)"
      ]
     },
     "execution_count": 7,
     "metadata": {},
     "output_type": "execute_result"
    }
   ],
   "source": [
    "t=(1,2,3)\n",
    "t"
   ]
  },
  {
   "cell_type": "code",
   "execution_count": 9,
   "id": "66d89b65-3a82-4a37-8fb7-11c4a8181282",
   "metadata": {},
   "outputs": [
    {
     "data": {
      "text/plain": [
       "1"
      ]
     },
     "execution_count": 9,
     "metadata": {},
     "output_type": "execute_result"
    }
   ],
   "source": [
    "t.count(2)"
   ]
  },
  {
   "cell_type": "code",
   "execution_count": 10,
   "id": "dd037106-c1b4-495c-8309-69a7b1e82550",
   "metadata": {},
   "outputs": [
    {
     "data": {
      "text/plain": [
       "2"
      ]
     },
     "execution_count": 10,
     "metadata": {},
     "output_type": "execute_result"
    }
   ],
   "source": [
    "t.index(3)"
   ]
  },
  {
   "cell_type": "code",
   "execution_count": 11,
   "id": "394d46f6-55ab-4832-a467-4b19d26c0100",
   "metadata": {},
   "outputs": [
    {
     "ename": "AttributeError",
     "evalue": "'tuple' object has no attribute 'add'",
     "output_type": "error",
     "traceback": [
      "\u001b[1;31m---------------------------------------------------------------------------\u001b[0m",
      "\u001b[1;31mAttributeError\u001b[0m                            Traceback (most recent call last)",
      "Cell \u001b[1;32mIn[11], line 1\u001b[0m\n\u001b[1;32m----> 1\u001b[0m t\u001b[38;5;241m.\u001b[39madd(\u001b[38;5;241m4\u001b[39m)\n",
      "\u001b[1;31mAttributeError\u001b[0m: 'tuple' object has no attribute 'add'"
     ]
    }
   ],
   "source": [
    "t.add(4)"
   ]
  },
  {
   "cell_type": "code",
   "execution_count": 13,
   "id": "8649b0a8-d933-47e3-920a-c63591217d47",
   "metadata": {},
   "outputs": [
    {
     "data": {
      "text/plain": [
       "(1, 'banana', 4.5, True, 1)"
      ]
     },
     "execution_count": 13,
     "metadata": {},
     "output_type": "execute_result"
    }
   ],
   "source": [
    "t1=(1,'banana',4.5,True,1)\n",
    "t1"
   ]
  },
  {
   "cell_type": "code",
   "execution_count": 14,
   "id": "b6523766-1b2a-4ed0-ac28-63cccb62b67f",
   "metadata": {},
   "outputs": [
    {
     "data": {
      "text/plain": [
       "set()"
      ]
     },
     "execution_count": 14,
     "metadata": {},
     "output_type": "execute_result"
    }
   ],
   "source": [
    "s2=set()\n",
    "s2"
   ]
  },
  {
   "cell_type": "code",
   "execution_count": 15,
   "id": "7acd7351-2378-4dd4-9938-3d938247e2e2",
   "metadata": {},
   "outputs": [
    {
     "data": {
      "text/plain": [
       "{5}"
      ]
     },
     "execution_count": 15,
     "metadata": {},
     "output_type": "execute_result"
    }
   ],
   "source": [
    "s2.add(5)\n",
    "s2"
   ]
  },
  {
   "cell_type": "code",
   "execution_count": 16,
   "id": "062d82e1-5cb1-4a4f-854a-227691e60dac",
   "metadata": {},
   "outputs": [],
   "source": [
    "dict={}"
   ]
  },
  {
   "cell_type": "code",
   "execution_count": 17,
   "id": "07fdbeca-936b-4e04-9acd-8e55e7f036fe",
   "metadata": {},
   "outputs": [
    {
     "data": {
      "text/plain": [
       "{}"
      ]
     },
     "execution_count": 17,
     "metadata": {},
     "output_type": "execute_result"
    }
   ],
   "source": [
    "dict"
   ]
  },
  {
   "cell_type": "code",
   "execution_count": 19,
   "id": "5b88b5d2-8886-4bb5-aa9b-c3aba31bbf67",
   "metadata": {},
   "outputs": [
    {
     "data": {
      "text/plain": [
       "{1: 'one', 2: 'two', 3: 'three', 4: 'four', 5: 'five'}"
      ]
     },
     "execution_count": 19,
     "metadata": {},
     "output_type": "execute_result"
    }
   ],
   "source": [
    "dict={1:'one' , 2:'two' , 3:'three' , 4:'four' , 5:'five'}\n",
    "dict"
   ]
  },
  {
   "cell_type": "code",
   "execution_count": 21,
   "id": "06ecdda0-1b31-43f9-be9a-b74e47098bdd",
   "metadata": {},
   "outputs": [
    {
     "data": {
      "text/plain": [
       "'one'"
      ]
     },
     "execution_count": 21,
     "metadata": {},
     "output_type": "execute_result"
    }
   ],
   "source": [
    "dict.pop(1)"
   ]
  },
  {
   "cell_type": "code",
   "execution_count": 22,
   "id": "9433d83c-2035-49e1-8e0e-2d65dd3a2788",
   "metadata": {},
   "outputs": [
    {
     "data": {
      "text/plain": [
       "{2: 'two', 3: 'three', 4: 'four', 5: 'five'}"
      ]
     },
     "execution_count": 22,
     "metadata": {},
     "output_type": "execute_result"
    }
   ],
   "source": [
    "dict"
   ]
  },
  {
   "cell_type": "code",
   "execution_count": 23,
   "id": "8d5c81b3-c757-4d6b-8dac-6996decaa1e1",
   "metadata": {},
   "outputs": [
    {
     "data": {
      "text/plain": [
       "(5, 'five')"
      ]
     },
     "execution_count": 23,
     "metadata": {},
     "output_type": "execute_result"
    }
   ],
   "source": [
    "dict.popitem()"
   ]
  },
  {
   "cell_type": "code",
   "execution_count": 24,
   "id": "f4d7c7cc-6123-410c-b618-8851181497ef",
   "metadata": {},
   "outputs": [
    {
     "data": {
      "text/plain": [
       "{2: 'two', 3: 'three', 4: 'four'}"
      ]
     },
     "execution_count": 24,
     "metadata": {},
     "output_type": "execute_result"
    }
   ],
   "source": [
    "dict"
   ]
  },
  {
   "cell_type": "code",
   "execution_count": 25,
   "id": "063ef87b-7f48-45c3-bbf9-e2249b68d6ef",
   "metadata": {},
   "outputs": [
    {
     "data": {
      "text/plain": [
       "(4, 'four')"
      ]
     },
     "execution_count": 25,
     "metadata": {},
     "output_type": "execute_result"
    }
   ],
   "source": [
    "dict.popitem()"
   ]
  },
  {
   "cell_type": "code",
   "execution_count": 26,
   "id": "e894d425-2212-4ab9-9127-8a04a2c3a86e",
   "metadata": {},
   "outputs": [],
   "source": [
    "f=2.3"
   ]
  },
  {
   "cell_type": "code",
   "execution_count": 27,
   "id": "acfb760c-4c2f-47f7-aa2b-9441e79a050c",
   "metadata": {},
   "outputs": [
    {
     "data": {
      "text/plain": [
       "2.3"
      ]
     },
     "execution_count": 27,
     "metadata": {},
     "output_type": "execute_result"
    }
   ],
   "source": [
    "f"
   ]
  },
  {
   "cell_type": "code",
   "execution_count": 28,
   "id": "e457b56d-afc1-454f-9720-291b4bce9af7",
   "metadata": {},
   "outputs": [],
   "source": [
    "f=2e0"
   ]
  },
  {
   "cell_type": "code",
   "execution_count": 29,
   "id": "f99f2951-f0b4-4d00-b4cc-8ed7d38cbd02",
   "metadata": {},
   "outputs": [
    {
     "data": {
      "text/plain": [
       "2.0"
      ]
     },
     "execution_count": 29,
     "metadata": {},
     "output_type": "execute_result"
    }
   ],
   "source": [
    "f"
   ]
  },
  {
   "cell_type": "code",
   "execution_count": 30,
   "id": "80af5b79-7826-434b-96a5-67c6c53d4b78",
   "metadata": {},
   "outputs": [],
   "source": [
    "f=2e1"
   ]
  },
  {
   "cell_type": "code",
   "execution_count": 31,
   "id": "e943f3ce-fb68-469e-90d1-398948941804",
   "metadata": {},
   "outputs": [
    {
     "data": {
      "text/plain": [
       "20.0"
      ]
     },
     "execution_count": 31,
     "metadata": {},
     "output_type": "execute_result"
    }
   ],
   "source": [
    "f"
   ]
  },
  {
   "cell_type": "code",
   "execution_count": 32,
   "id": "ee6b13da-70d3-40d0-85aa-dc2479db47cb",
   "metadata": {},
   "outputs": [
    {
     "data": {
      "text/plain": [
       "200.0"
      ]
     },
     "execution_count": 32,
     "metadata": {},
     "output_type": "execute_result"
    }
   ],
   "source": [
    "f=2e2\n",
    "f"
   ]
  },
  {
   "cell_type": "code",
   "execution_count": 33,
   "id": "c2e0194c-f0a4-4afc-b337-158c2209e5bf",
   "metadata": {},
   "outputs": [
    {
     "ename": "SyntaxError",
     "evalue": "invalid decimal literal (3565756536.py, line 1)",
     "output_type": "error",
     "traceback": [
      "\u001b[1;36m  Cell \u001b[1;32mIn[33], line 1\u001b[1;36m\u001b[0m\n\u001b[1;33m    f=2b2\u001b[0m\n\u001b[1;37m      ^\u001b[0m\n\u001b[1;31mSyntaxError\u001b[0m\u001b[1;31m:\u001b[0m invalid decimal literal\n"
     ]
    }
   ],
   "source": [
    "f=2b2\n",
    "f"
   ]
  },
  {
   "cell_type": "code",
   "execution_count": 3,
   "id": "39dcebc5-613a-453c-8874-19d874abe230",
   "metadata": {},
   "outputs": [
    {
     "ename": "SyntaxError",
     "evalue": "invalid syntax. Maybe you meant '==' or ':=' instead of '='? (1767390392.py, line 1)",
     "output_type": "error",
     "traceback": [
      "\u001b[1;36m  Cell \u001b[1;32mIn[3], line 1\u001b[1;36m\u001b[0m\n\u001b[1;33m    x=11,y=3\u001b[0m\n\u001b[1;37m    ^\u001b[0m\n\u001b[1;31mSyntaxError\u001b[0m\u001b[1;31m:\u001b[0m invalid syntax. Maybe you meant '==' or ':=' instead of '='?\n"
     ]
    }
   ],
   "source": [
    "x=11,y=3\n",
    "    z=x**y"
   ]
  },
  {
   "cell_type": "code",
   "execution_count": 4,
   "id": "bb39eb43-51a0-434e-8975-995d4934ffcf",
   "metadata": {},
   "outputs": [
    {
     "name": "stdout",
     "output_type": "stream",
     "text": [
      "<class 'str'>\n"
     ]
    }
   ],
   "source": [
    "x=\"Hello\"\n",
    "print(type(x))\n",
    "\n"
   ]
  },
  {
   "cell_type": "code",
   "execution_count": 5,
   "id": "1c45f99c-fb68-49ac-a4b0-f42c09d2bdba",
   "metadata": {},
   "outputs": [
    {
     "name": "stdout",
     "output_type": "stream",
     "text": [
      "{1, 3, 4, 5, 6}\n"
     ]
    }
   ],
   "source": [
    "set1={1,5,6,4,3}\n",
    "print(set1)"
   ]
  },
  {
   "cell_type": "code",
   "execution_count": null,
   "id": "e5fea243-7ed9-4455-a7bf-3fb970aa8597",
   "metadata": {},
   "outputs": [],
   "source": [
    "\n"
   ]
  }
 ],
 "metadata": {
  "kernelspec": {
   "display_name": "Python 3 (ipykernel)",
   "language": "python",
   "name": "python3"
  },
  "language_info": {
   "codemirror_mode": {
    "name": "ipython",
    "version": 3
   },
   "file_extension": ".py",
   "mimetype": "text/x-python",
   "name": "python",
   "nbconvert_exporter": "python",
   "pygments_lexer": "ipython3",
   "version": "3.12.4"
  }
 },
 "nbformat": 4,
 "nbformat_minor": 5
}

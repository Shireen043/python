{
 "cells": [
  {
   "cell_type": "code",
   "execution_count": 1,
   "id": "4701a13c-8253-4b62-add1-c6cb14105f75",
   "metadata": {},
   "outputs": [],
   "source": [
    "import pandas as pd"
   ]
  },
  {
   "cell_type": "code",
   "execution_count": 2,
   "id": "948cb432-3a47-4cd0-83a9-8f243d2e7b08",
   "metadata": {},
   "outputs": [
    {
     "data": {
      "text/html": [
       "<div>\n",
       "<style scoped>\n",
       "    .dataframe tbody tr th:only-of-type {\n",
       "        vertical-align: middle;\n",
       "    }\n",
       "\n",
       "    .dataframe tbody tr th {\n",
       "        vertical-align: top;\n",
       "    }\n",
       "\n",
       "    .dataframe thead th {\n",
       "        text-align: right;\n",
       "    }\n",
       "</style>\n",
       "<table border=\"1\" class=\"dataframe\">\n",
       "  <thead>\n",
       "    <tr style=\"text-align: right;\">\n",
       "      <th></th>\n",
       "      <th>ADDR</th>\n",
       "      <th>Unnamed: 1</th>\n",
       "      <th>Unnamed: 2</th>\n",
       "      <th>DT</th>\n",
       "      <th>NAME</th>\n",
       "      <th>time</th>\n",
       "    </tr>\n",
       "  </thead>\n",
       "  <tbody>\n",
       "    <tr>\n",
       "      <th>0</th>\n",
       "      <td>45 rd, kenith street, btm, bangalore 500038</td>\n",
       "      <td>NaN</td>\n",
       "      <td>NaN</td>\n",
       "      <td>03-04-2022</td>\n",
       "      <td>abc</td>\n",
       "      <td>8:30:21</td>\n",
       "    </tr>\n",
       "    <tr>\n",
       "      <th>1</th>\n",
       "      <td>45 rd,  street, hitech, Hd 500038</td>\n",
       "      <td>NaN</td>\n",
       "      <td>NaN</td>\n",
       "      <td>02-04-2022</td>\n",
       "      <td>dec</td>\n",
       "      <td>5:30:21</td>\n",
       "    </tr>\n",
       "  </tbody>\n",
       "</table>\n",
       "</div>"
      ],
      "text/plain": [
       "                                          ADDR  Unnamed: 1  Unnamed: 2  \\\n",
       "0  45 rd, kenith street, btm, bangalore 500038         NaN         NaN   \n",
       "1            45 rd,  street, hitech, Hd 500038         NaN         NaN   \n",
       "\n",
       "           DT NAME     time  \n",
       "0  03-04-2022  abc  8:30:21  \n",
       "1  02-04-2022  dec  5:30:21  "
      ]
     },
     "execution_count": 2,
     "metadata": {},
     "output_type": "execute_result"
    }
   ],
   "source": [
    "raw_file = pd.read_csv(r'Downloads/raw_data.csv') # importing the csv file\n",
    "raw_file"
   ]
  },
  {
   "cell_type": "code",
   "execution_count": 3,
   "id": "dddef41f-0230-4b2c-86eb-e380520081b3",
   "metadata": {},
   "outputs": [
    {
     "data": {
      "text/html": [
       "<div>\n",
       "<style scoped>\n",
       "    .dataframe tbody tr th:only-of-type {\n",
       "        vertical-align: middle;\n",
       "    }\n",
       "\n",
       "    .dataframe tbody tr th {\n",
       "        vertical-align: top;\n",
       "    }\n",
       "\n",
       "    .dataframe thead th {\n",
       "        text-align: right;\n",
       "    }\n",
       "</style>\n",
       "<table border=\"1\" class=\"dataframe\">\n",
       "  <thead>\n",
       "    <tr style=\"text-align: right;\">\n",
       "      <th></th>\n",
       "      <th>ADDR</th>\n",
       "      <th>DT</th>\n",
       "      <th>NAME</th>\n",
       "      <th>time</th>\n",
       "    </tr>\n",
       "  </thead>\n",
       "  <tbody>\n",
       "    <tr>\n",
       "      <th>0</th>\n",
       "      <td>45 rd, kenith street, btm, bangalore 500038</td>\n",
       "      <td>03-04-2022</td>\n",
       "      <td>abc</td>\n",
       "      <td>8:30:21</td>\n",
       "    </tr>\n",
       "    <tr>\n",
       "      <th>1</th>\n",
       "      <td>45 rd,  street, hitech, Hd 500038</td>\n",
       "      <td>02-04-2022</td>\n",
       "      <td>dec</td>\n",
       "      <td>5:30:21</td>\n",
       "    </tr>\n",
       "  </tbody>\n",
       "</table>\n",
       "</div>"
      ],
      "text/plain": [
       "                                          ADDR          DT NAME     time\n",
       "0  45 rd, kenith street, btm, bangalore 500038  03-04-2022  abc  8:30:21\n",
       "1            45 rd,  street, hitech, Hd 500038  02-04-2022  dec  5:30:21"
      ]
     },
     "execution_count": 3,
     "metadata": {},
     "output_type": "execute_result"
    }
   ],
   "source": [
    "raw_file = raw_file.loc[:, ~raw_file.columns.str.startswith('Unnamed')] # removed unnamed features\n",
    "raw_file"
   ]
  },
  {
   "cell_type": "markdown",
   "id": "a7f4d37f-feb2-473d-b275-7327406794eb",
   "metadata": {},
   "source": [
    "# understanding the structure of dataset"
   ]
  },
  {
   "cell_type": "code",
   "execution_count": 4,
   "id": "4dcbcbb7-57c6-48d6-b068-556bf62bc54f",
   "metadata": {},
   "outputs": [
    {
     "name": "stdout",
     "output_type": "stream",
     "text": [
      "<class 'pandas.core.frame.DataFrame'>\n",
      "RangeIndex: 2 entries, 0 to 1\n",
      "Data columns (total 4 columns):\n",
      " #   Column  Non-Null Count  Dtype \n",
      "---  ------  --------------  ----- \n",
      " 0   ADDR    2 non-null      object\n",
      " 1   DT      2 non-null      object\n",
      " 2   NAME    2 non-null      object\n",
      " 3   time    2 non-null      object\n",
      "dtypes: object(4)\n",
      "memory usage: 196.0+ bytes\n"
     ]
    }
   ],
   "source": [
    "raw_file.info()"
   ]
  },
  {
   "cell_type": "code",
   "execution_count": 5,
   "id": "d812f5dc-bcf9-47a7-bf2a-f2dc92e7d8d1",
   "metadata": {},
   "outputs": [
    {
     "data": {
      "text/html": [
       "<div>\n",
       "<style scoped>\n",
       "    .dataframe tbody tr th:only-of-type {\n",
       "        vertical-align: middle;\n",
       "    }\n",
       "\n",
       "    .dataframe tbody tr th {\n",
       "        vertical-align: top;\n",
       "    }\n",
       "\n",
       "    .dataframe thead th {\n",
       "        text-align: right;\n",
       "    }\n",
       "</style>\n",
       "<table border=\"1\" class=\"dataframe\">\n",
       "  <thead>\n",
       "    <tr style=\"text-align: right;\">\n",
       "      <th></th>\n",
       "      <th>ADDR</th>\n",
       "      <th>DT</th>\n",
       "      <th>NAME</th>\n",
       "      <th>time</th>\n",
       "    </tr>\n",
       "  </thead>\n",
       "  <tbody>\n",
       "    <tr>\n",
       "      <th>count</th>\n",
       "      <td>2</td>\n",
       "      <td>2</td>\n",
       "      <td>2</td>\n",
       "      <td>2</td>\n",
       "    </tr>\n",
       "    <tr>\n",
       "      <th>unique</th>\n",
       "      <td>2</td>\n",
       "      <td>2</td>\n",
       "      <td>2</td>\n",
       "      <td>2</td>\n",
       "    </tr>\n",
       "    <tr>\n",
       "      <th>top</th>\n",
       "      <td>45 rd, kenith street, btm, bangalore 500038</td>\n",
       "      <td>03-04-2022</td>\n",
       "      <td>abc</td>\n",
       "      <td>8:30:21</td>\n",
       "    </tr>\n",
       "    <tr>\n",
       "      <th>freq</th>\n",
       "      <td>1</td>\n",
       "      <td>1</td>\n",
       "      <td>1</td>\n",
       "      <td>1</td>\n",
       "    </tr>\n",
       "  </tbody>\n",
       "</table>\n",
       "</div>"
      ],
      "text/plain": [
       "                                               ADDR          DT NAME     time\n",
       "count                                             2           2    2        2\n",
       "unique                                            2           2    2        2\n",
       "top     45 rd, kenith street, btm, bangalore 500038  03-04-2022  abc  8:30:21\n",
       "freq                                              1           1    1        1"
      ]
     },
     "execution_count": 5,
     "metadata": {},
     "output_type": "execute_result"
    }
   ],
   "source": [
    "raw_file.describe()"
   ]
  },
  {
   "cell_type": "markdown",
   "id": "9050d323-4ba6-4922-9076-829f53ea6391",
   "metadata": {},
   "source": [
    "# splitting the features"
   ]
  },
  {
   "cell_type": "code",
   "execution_count": 6,
   "id": "27d95e95-0f09-4ffc-b2db-20dc3a2227c7",
   "metadata": {},
   "outputs": [
    {
     "name": "stderr",
     "output_type": "stream",
     "text": [
      "C:\\Users\\acer\\AppData\\Local\\Temp\\ipykernel_4184\\3475290164.py:2: SettingWithCopyWarning: \n",
      "A value is trying to be set on a copy of a slice from a DataFrame.\n",
      "Try using .loc[row_indexer,col_indexer] = value instead\n",
      "\n",
      "See the caveats in the documentation: https://pandas.pydata.org/pandas-docs/stable/user_guide/indexing.html#returning-a-view-versus-a-copy\n",
      "  raw_file[['Road','Street','Area','City']]=raw_file['ADDR'].str.split(',',expand=True)\n"
     ]
    },
    {
     "data": {
      "text/html": [
       "<div>\n",
       "<style scoped>\n",
       "    .dataframe tbody tr th:only-of-type {\n",
       "        vertical-align: middle;\n",
       "    }\n",
       "\n",
       "    .dataframe tbody tr th {\n",
       "        vertical-align: top;\n",
       "    }\n",
       "\n",
       "    .dataframe thead th {\n",
       "        text-align: right;\n",
       "    }\n",
       "</style>\n",
       "<table border=\"1\" class=\"dataframe\">\n",
       "  <thead>\n",
       "    <tr style=\"text-align: right;\">\n",
       "      <th></th>\n",
       "      <th>ADDR</th>\n",
       "      <th>DT</th>\n",
       "      <th>NAME</th>\n",
       "      <th>time</th>\n",
       "      <th>Road</th>\n",
       "      <th>Street</th>\n",
       "      <th>Area</th>\n",
       "      <th>City</th>\n",
       "    </tr>\n",
       "  </thead>\n",
       "  <tbody>\n",
       "    <tr>\n",
       "      <th>0</th>\n",
       "      <td>45 rd, kenith street, btm, bangalore 500038</td>\n",
       "      <td>03-04-2022</td>\n",
       "      <td>abc</td>\n",
       "      <td>8:30:21</td>\n",
       "      <td>45 rd</td>\n",
       "      <td>kenith street</td>\n",
       "      <td>btm</td>\n",
       "      <td>bangalore 500038</td>\n",
       "    </tr>\n",
       "    <tr>\n",
       "      <th>1</th>\n",
       "      <td>45 rd,  street, hitech, Hd 500038</td>\n",
       "      <td>02-04-2022</td>\n",
       "      <td>dec</td>\n",
       "      <td>5:30:21</td>\n",
       "      <td>45 rd</td>\n",
       "      <td>street</td>\n",
       "      <td>hitech</td>\n",
       "      <td>Hd 500038</td>\n",
       "    </tr>\n",
       "  </tbody>\n",
       "</table>\n",
       "</div>"
      ],
      "text/plain": [
       "                                          ADDR          DT NAME     time  \\\n",
       "0  45 rd, kenith street, btm, bangalore 500038  03-04-2022  abc  8:30:21   \n",
       "1            45 rd,  street, hitech, Hd 500038  02-04-2022  dec  5:30:21   \n",
       "\n",
       "    Road          Street     Area               City  \n",
       "0  45 rd   kenith street      btm   bangalore 500038  \n",
       "1  45 rd          street   hitech          Hd 500038  "
      ]
     },
     "execution_count": 6,
     "metadata": {},
     "output_type": "execute_result"
    }
   ],
   "source": [
    "# splitting the adress feature\n",
    "raw_file[['Road','Street','Area','City']]=raw_file['ADDR'].str.split(',',expand=True)\n",
    "raw_file.head()"
   ]
  },
  {
   "cell_type": "code",
   "execution_count": 7,
   "id": "6f395d8b-f0e5-4c40-9efc-c45e4909e6de",
   "metadata": {},
   "outputs": [
    {
     "data": {
      "text/html": [
       "<div>\n",
       "<style scoped>\n",
       "    .dataframe tbody tr th:only-of-type {\n",
       "        vertical-align: middle;\n",
       "    }\n",
       "\n",
       "    .dataframe tbody tr th {\n",
       "        vertical-align: top;\n",
       "    }\n",
       "\n",
       "    .dataframe thead th {\n",
       "        text-align: right;\n",
       "    }\n",
       "</style>\n",
       "<table border=\"1\" class=\"dataframe\">\n",
       "  <thead>\n",
       "    <tr style=\"text-align: right;\">\n",
       "      <th></th>\n",
       "      <th>DT</th>\n",
       "      <th>NAME</th>\n",
       "      <th>time</th>\n",
       "      <th>Road</th>\n",
       "      <th>Street</th>\n",
       "      <th>Area</th>\n",
       "      <th>City</th>\n",
       "    </tr>\n",
       "  </thead>\n",
       "  <tbody>\n",
       "    <tr>\n",
       "      <th>0</th>\n",
       "      <td>03-04-2022</td>\n",
       "      <td>abc</td>\n",
       "      <td>8:30:21</td>\n",
       "      <td>45 rd</td>\n",
       "      <td>kenith street</td>\n",
       "      <td>btm</td>\n",
       "      <td>bangalore 500038</td>\n",
       "    </tr>\n",
       "    <tr>\n",
       "      <th>1</th>\n",
       "      <td>02-04-2022</td>\n",
       "      <td>dec</td>\n",
       "      <td>5:30:21</td>\n",
       "      <td>45 rd</td>\n",
       "      <td>street</td>\n",
       "      <td>hitech</td>\n",
       "      <td>Hd 500038</td>\n",
       "    </tr>\n",
       "  </tbody>\n",
       "</table>\n",
       "</div>"
      ],
      "text/plain": [
       "           DT NAME     time   Road          Street     Area               City\n",
       "0  03-04-2022  abc  8:30:21  45 rd   kenith street      btm   bangalore 500038\n",
       "1  02-04-2022  dec  5:30:21  45 rd          street   hitech          Hd 500038"
      ]
     },
     "execution_count": 7,
     "metadata": {},
     "output_type": "execute_result"
    }
   ],
   "source": [
    "# droped the ADDR feature\n",
    "raw_file = raw_file.drop(columns=['ADDR'])\n",
    "raw_file.head()"
   ]
  },
  {
   "cell_type": "code",
   "execution_count": 8,
   "id": "02416724-fa90-4ef4-819a-a6347a6fbc7a",
   "metadata": {},
   "outputs": [
    {
     "data": {
      "text/html": [
       "<div>\n",
       "<style scoped>\n",
       "    .dataframe tbody tr th:only-of-type {\n",
       "        vertical-align: middle;\n",
       "    }\n",
       "\n",
       "    .dataframe tbody tr th {\n",
       "        vertical-align: top;\n",
       "    }\n",
       "\n",
       "    .dataframe thead th {\n",
       "        text-align: right;\n",
       "    }\n",
       "</style>\n",
       "<table border=\"1\" class=\"dataframe\">\n",
       "  <thead>\n",
       "    <tr style=\"text-align: right;\">\n",
       "      <th></th>\n",
       "      <th>DT</th>\n",
       "      <th>NAME</th>\n",
       "      <th>time</th>\n",
       "      <th>Road</th>\n",
       "      <th>Street</th>\n",
       "      <th>Area</th>\n",
       "      <th>City</th>\n",
       "      <th>Hour</th>\n",
       "      <th>Minute</th>\n",
       "      <th>Second</th>\n",
       "    </tr>\n",
       "  </thead>\n",
       "  <tbody>\n",
       "    <tr>\n",
       "      <th>0</th>\n",
       "      <td>03-04-2022</td>\n",
       "      <td>abc</td>\n",
       "      <td>8:30:21</td>\n",
       "      <td>45 rd</td>\n",
       "      <td>kenith street</td>\n",
       "      <td>btm</td>\n",
       "      <td>bangalore 500038</td>\n",
       "      <td>8</td>\n",
       "      <td>30</td>\n",
       "      <td>21</td>\n",
       "    </tr>\n",
       "    <tr>\n",
       "      <th>1</th>\n",
       "      <td>02-04-2022</td>\n",
       "      <td>dec</td>\n",
       "      <td>5:30:21</td>\n",
       "      <td>45 rd</td>\n",
       "      <td>street</td>\n",
       "      <td>hitech</td>\n",
       "      <td>Hd 500038</td>\n",
       "      <td>5</td>\n",
       "      <td>30</td>\n",
       "      <td>21</td>\n",
       "    </tr>\n",
       "  </tbody>\n",
       "</table>\n",
       "</div>"
      ],
      "text/plain": [
       "           DT NAME     time   Road          Street     Area  \\\n",
       "0  03-04-2022  abc  8:30:21  45 rd   kenith street      btm   \n",
       "1  02-04-2022  dec  5:30:21  45 rd          street   hitech   \n",
       "\n",
       "                City Hour Minute Second  \n",
       "0   bangalore 500038    8     30     21  \n",
       "1          Hd 500038    5     30     21  "
      ]
     },
     "execution_count": 8,
     "metadata": {},
     "output_type": "execute_result"
    }
   ],
   "source": [
    "# splitting the time feature\n",
    "raw_file[['Hour', 'Minute', 'Second']] = raw_file['time'].str.split(':', expand=True)\n",
    "raw_file.head()"
   ]
  },
  {
   "cell_type": "code",
   "execution_count": 9,
   "id": "ed53c14d-186c-4b1b-9462-596417826f2e",
   "metadata": {},
   "outputs": [
    {
     "data": {
      "text/html": [
       "<div>\n",
       "<style scoped>\n",
       "    .dataframe tbody tr th:only-of-type {\n",
       "        vertical-align: middle;\n",
       "    }\n",
       "\n",
       "    .dataframe tbody tr th {\n",
       "        vertical-align: top;\n",
       "    }\n",
       "\n",
       "    .dataframe thead th {\n",
       "        text-align: right;\n",
       "    }\n",
       "</style>\n",
       "<table border=\"1\" class=\"dataframe\">\n",
       "  <thead>\n",
       "    <tr style=\"text-align: right;\">\n",
       "      <th></th>\n",
       "      <th>DT</th>\n",
       "      <th>NAME</th>\n",
       "      <th>time</th>\n",
       "      <th>Road</th>\n",
       "      <th>Street</th>\n",
       "      <th>Area</th>\n",
       "      <th>City</th>\n",
       "      <th>Hour</th>\n",
       "      <th>Minute</th>\n",
       "      <th>Second</th>\n",
       "      <th>Day</th>\n",
       "      <th>Month</th>\n",
       "      <th>Year</th>\n",
       "    </tr>\n",
       "  </thead>\n",
       "  <tbody>\n",
       "    <tr>\n",
       "      <th>0</th>\n",
       "      <td>03-04-2022</td>\n",
       "      <td>abc</td>\n",
       "      <td>8:30:21</td>\n",
       "      <td>45 rd</td>\n",
       "      <td>kenith street</td>\n",
       "      <td>btm</td>\n",
       "      <td>bangalore 500038</td>\n",
       "      <td>8</td>\n",
       "      <td>30</td>\n",
       "      <td>21</td>\n",
       "      <td>03</td>\n",
       "      <td>04</td>\n",
       "      <td>2022</td>\n",
       "    </tr>\n",
       "    <tr>\n",
       "      <th>1</th>\n",
       "      <td>02-04-2022</td>\n",
       "      <td>dec</td>\n",
       "      <td>5:30:21</td>\n",
       "      <td>45 rd</td>\n",
       "      <td>street</td>\n",
       "      <td>hitech</td>\n",
       "      <td>Hd 500038</td>\n",
       "      <td>5</td>\n",
       "      <td>30</td>\n",
       "      <td>21</td>\n",
       "      <td>02</td>\n",
       "      <td>04</td>\n",
       "      <td>2022</td>\n",
       "    </tr>\n",
       "  </tbody>\n",
       "</table>\n",
       "</div>"
      ],
      "text/plain": [
       "           DT NAME     time   Road          Street     Area  \\\n",
       "0  03-04-2022  abc  8:30:21  45 rd   kenith street      btm   \n",
       "1  02-04-2022  dec  5:30:21  45 rd          street   hitech   \n",
       "\n",
       "                City Hour Minute Second Day Month  Year  \n",
       "0   bangalore 500038    8     30     21  03    04  2022  \n",
       "1          Hd 500038    5     30     21  02    04  2022  "
      ]
     },
     "execution_count": 9,
     "metadata": {},
     "output_type": "execute_result"
    }
   ],
   "source": [
    "# splitting the DT feature\n",
    "raw_file[['Day', 'Month', 'Year']] = raw_file['DT'].str.split('-', expand=True)\n",
    "raw_file.head()"
   ]
  },
  {
   "cell_type": "code",
   "execution_count": 11,
   "id": "b58bfcd6-516a-41dc-a65c-85e7024c56a1",
   "metadata": {},
   "outputs": [
    {
     "data": {
      "text/plain": [
       "DT        0\n",
       "NAME      0\n",
       "time      0\n",
       "Road      0\n",
       "Street    0\n",
       "Area      0\n",
       "City      0\n",
       "Hour      0\n",
       "Minute    0\n",
       "Second    0\n",
       "Day       0\n",
       "Month     0\n",
       "Year      0\n",
       "dtype: int64"
      ]
     },
     "execution_count": 11,
     "metadata": {},
     "output_type": "execute_result"
    }
   ],
   "source": [
    "# finding missing values\n",
    "raw_file.isnull().sum()\n"
   ]
  },
  {
   "cell_type": "markdown",
   "id": "3069976f-3ec3-4722-8a90-5fd5468c990d",
   "metadata": {},
   "source": [
    "There are no missing values in the dataset "
   ]
  },
  {
   "cell_type": "code",
   "execution_count": 12,
   "id": "b19c603a-9006-4918-be3f-501ecefcdbd9",
   "metadata": {},
   "outputs": [],
   "source": [
    "# saving the cleaned file\n",
    "raw_file.to_csv('cleaned_file.csv',index=False)"
   ]
  },
  {
   "cell_type": "code",
   "execution_count": null,
   "id": "48487307-6a44-45a0-bfd5-b6b24acf69be",
   "metadata": {},
   "outputs": [],
   "source": []
  }
 ],
 "metadata": {
  "kernelspec": {
   "display_name": "Python 3 (ipykernel)",
   "language": "python",
   "name": "python3"
  },
  "language_info": {
   "codemirror_mode": {
    "name": "ipython",
    "version": 3
   },
   "file_extension": ".py",
   "mimetype": "text/x-python",
   "name": "python",
   "nbconvert_exporter": "python",
   "pygments_lexer": "ipython3",
   "version": "3.12.4"
  }
 },
 "nbformat": 4,
 "nbformat_minor": 5
}

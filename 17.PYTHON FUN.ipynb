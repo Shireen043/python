{
 "cells": [
  {
   "cell_type": "code",
   "execution_count": 2,
   "id": "7b2cb640-9c95-49d8-be01-9214d7af6bf1",
   "metadata": {},
   "outputs": [
    {
     "name": "stdout",
     "output_type": "stream",
     "text": [
      "hello\n",
      "good morning\n"
     ]
    }
   ],
   "source": [
    "def greet():\n",
    "    print('hello')\n",
    "    print('good morning')\n",
    "greet()"
   ]
  },
  {
   "cell_type": "code",
   "execution_count": 3,
   "id": "f724b924-db46-40a7-bb03-49cd6231e7ac",
   "metadata": {},
   "outputs": [
    {
     "name": "stdout",
     "output_type": "stream",
     "text": [
      "good evening\n",
      "\n",
      "MCA\n"
     ]
    }
   ],
   "source": [
    "def greet():\n",
    "    print('good evening')\n",
    "greet()\n",
    "print()\n",
    "\n",
    "def course():\n",
    "    print('MCA')\n",
    "course()"
   ]
  },
  {
   "cell_type": "code",
   "execution_count": 4,
   "id": "1ad3cd75-a218-4611-887f-a3b3eec3e93f",
   "metadata": {},
   "outputs": [
    {
     "data": {
      "text/plain": [
       "11"
      ]
     },
     "execution_count": 4,
     "metadata": {},
     "output_type": "execute_result"
    }
   ],
   "source": [
    "def section(x,y):\n",
    "    z=x+y\n",
    "    return z\n",
    "section(6,5)"
   ]
  },
  {
   "cell_type": "code",
   "execution_count": 6,
   "id": "ac9560ab-f5c2-4512-9194-06d53a989a9c",
   "metadata": {},
   "outputs": [
    {
     "name": "stdout",
     "output_type": "stream",
     "text": [
      "11\n"
     ]
    }
   ],
   "source": [
    "def section(x,y):\n",
    "    z=x+y\n",
    "    return z\n",
    "result = section(6,5)\n",
    "print(result)"
   ]
  },
  {
   "cell_type": "code",
   "execution_count": 8,
   "id": "cf98743e-6f47-45ef-b594-96998aa5b295",
   "metadata": {},
   "outputs": [
    {
     "name": "stdout",
     "output_type": "stream",
     "text": [
      "12\n",
      "-2\n"
     ]
    }
   ],
   "source": [
    "def add(x,y):\n",
    "    z=x+y\n",
    "    return z\n",
    "\n",
    "def sub(x,y):\n",
    "    z=x-y\n",
    "    return z\n",
    "ad = add(5,7)\n",
    "su = sub(5,7)\n",
    "print(ad)\n",
    "print(su)"
   ]
  },
  {
   "cell_type": "code",
   "execution_count": 12,
   "id": "8bdaa573-9bbb-41c6-b489-cce56a9bd3b5",
   "metadata": {},
   "outputs": [
    {
     "name": "stdout",
     "output_type": "stream",
     "text": [
      "(14, 2)\n"
     ]
    }
   ],
   "source": [
    "def add_sub(x,y):\n",
    "    z=x+y\n",
    "    n=x-y\n",
    "    return z,n\n",
    "    \n",
    "result = add_sub(8,6)\n",
    "print(result)"
   ]
  },
  {
   "cell_type": "code",
   "execution_count": 13,
   "id": "6956db0d-708a-4ed0-9f12-b6a839975e20",
   "metadata": {},
   "outputs": [
    {
     "name": "stdout",
     "output_type": "stream",
     "text": [
      "14\n",
      "2\n"
     ]
    }
   ],
   "source": [
    "def add_sub(x,y):\n",
    "    z=x+y\n",
    "    n=x-y\n",
    "    return z,n\n",
    "result1 , result2 = add_sub(8,6)\n",
    "print(result1)\n",
    "print(result2)"
   ]
  },
  {
   "cell_type": "code",
   "execution_count": 17,
   "id": "28b3110e-7f1e-4721-961a-9a593d09c8c4",
   "metadata": {},
   "outputs": [
    {
     "name": "stdout",
     "output_type": "stream",
     "text": [
      "14\n",
      "2\n",
      "48\n"
     ]
    }
   ],
   "source": [
    "def add_sub_mul(x,y):\n",
    "    z=x+y\n",
    "    n=x-y\n",
    "    q=x*y\n",
    "    return z,n,q\n",
    "result1 , result2,result3 = add_sub_mul(8,6)\n",
    "print(result1)\n",
    "print(result2)\n",
    "print(result3)"
   ]
  },
  {
   "cell_type": "code",
   "execution_count": 18,
   "id": "edb99ca5-092e-4dfc-9cfd-90982ab3898e",
   "metadata": {},
   "outputs": [
    {
     "name": "stdout",
     "output_type": "stream",
     "text": [
      "7\n"
     ]
    }
   ],
   "source": [
    "def add(x,y):\n",
    "    c=x+y\n",
    "    return c\n",
    "score = add(3,4)\n",
    "print(score)"
   ]
  },
  {
   "cell_type": "code",
   "execution_count": 19,
   "id": "48e33583-5074-44d6-9046-74784774910c",
   "metadata": {},
   "outputs": [
    {
     "data": {
      "text/plain": [
       "7"
      ]
     },
     "execution_count": 19,
     "metadata": {},
     "output_type": "execute_result"
    }
   ],
   "source": [
    "def add(x,y):\n",
    "    z=x+y\n",
    "    return z\n",
    "add(3,4)"
   ]
  },
  {
   "cell_type": "code",
   "execution_count": 20,
   "id": "082b654f-4689-4228-a457-fa29fa99585f",
   "metadata": {},
   "outputs": [
    {
     "name": "stdout",
     "output_type": "stream",
     "text": [
      "nit\n",
      "22\n"
     ]
    }
   ],
   "source": [
    "def person(name,age):\n",
    "    print(name)\n",
    "    print(age)\n",
    "person('nit',22)"
   ]
  },
  {
   "cell_type": "code",
   "execution_count": 21,
   "id": "19b91bd1-3ab6-45bc-819e-0669b24e52b2",
   "metadata": {},
   "outputs": [
    {
     "name": "stdout",
     "output_type": "stream",
     "text": [
      "22\n",
      "nit\n"
     ]
    }
   ],
   "source": [
    "def person(name,age):\n",
    "    print(name)\n",
    "    print(age)\n",
    "person(22,'nit')"
   ]
  },
  {
   "cell_type": "code",
   "execution_count": 22,
   "id": "0cb8253c-3952-41b9-815b-e02a59c403ad",
   "metadata": {},
   "outputs": [
    {
     "name": "stdout",
     "output_type": "stream",
     "text": [
      "22\n"
     ]
    },
    {
     "ename": "TypeError",
     "evalue": "unsupported operand type(s) for -: 'str' and 'int'",
     "output_type": "error",
     "traceback": [
      "\u001b[1;31m---------------------------------------------------------------------------\u001b[0m",
      "\u001b[1;31mTypeError\u001b[0m                                 Traceback (most recent call last)",
      "Cell \u001b[1;32mIn[22], line 4\u001b[0m\n\u001b[0;32m      2\u001b[0m     \u001b[38;5;28mprint\u001b[39m(name)\n\u001b[0;32m      3\u001b[0m     \u001b[38;5;28mprint\u001b[39m(age\u001b[38;5;241m-\u001b[39m\u001b[38;5;241m5\u001b[39m)\n\u001b[1;32m----> 4\u001b[0m person(\u001b[38;5;241m22\u001b[39m , \u001b[38;5;124m'\u001b[39m\u001b[38;5;124mnit\u001b[39m\u001b[38;5;124m'\u001b[39m)\n",
      "Cell \u001b[1;32mIn[22], line 3\u001b[0m, in \u001b[0;36mperson\u001b[1;34m(name, age)\u001b[0m\n\u001b[0;32m      1\u001b[0m \u001b[38;5;28;01mdef\u001b[39;00m \u001b[38;5;21mperson\u001b[39m(name,age):\n\u001b[0;32m      2\u001b[0m     \u001b[38;5;28mprint\u001b[39m(name)\n\u001b[1;32m----> 3\u001b[0m     \u001b[38;5;28mprint\u001b[39m(age\u001b[38;5;241m-\u001b[39m\u001b[38;5;241m5\u001b[39m)\n",
      "\u001b[1;31mTypeError\u001b[0m: unsupported operand type(s) for -: 'str' and 'int'"
     ]
    }
   ],
   "source": [
    "def person(name,age):\n",
    "    print(name)\n",
    "    print(age-5)\n",
    "person(22 , 'nit')"
   ]
  },
  {
   "cell_type": "code",
   "execution_count": 23,
   "id": "cac8ee5f-a856-485b-9aec-e74c54b8db73",
   "metadata": {},
   "outputs": [
    {
     "name": "stdout",
     "output_type": "stream",
     "text": [
      "nit\n",
      "22\n"
     ]
    }
   ],
   "source": [
    "def person(name,age): # keyword ARGUMENT\n",
    "    print(name)\n",
    "    print(age)\n",
    "person(age = 22 , name = 'nit')"
   ]
  },
  {
   "cell_type": "code",
   "execution_count": 24,
   "id": "31d8542c-469c-47e6-a649-36f1347b153b",
   "metadata": {},
   "outputs": [
    {
     "name": "stdout",
     "output_type": "stream",
     "text": [
      "nit\n",
      "18\n"
     ]
    }
   ],
   "source": [
    "def person(name,age=18): # DEFAULT ARGUMENT\n",
    "    print(name)\n",
    "    print(age)\n",
    "person('nit')"
   ]
  },
  {
   "cell_type": "code",
   "execution_count": 25,
   "id": "44a41eb5-45ad-4135-9cc3-203e5f672024",
   "metadata": {},
   "outputs": [
    {
     "name": "stdout",
     "output_type": "stream",
     "text": [
      "nit\n",
      "20\n"
     ]
    }
   ],
   "source": [
    "def person(name,age=18):\n",
    "    print(name)\n",
    "    print(age)\n",
    "person('nit',20)"
   ]
  },
  {
   "cell_type": "code",
   "execution_count": null,
   "id": "73554b66-9dea-401e-bda6-3dda6c71a3a4",
   "metadata": {},
   "outputs": [],
   "source": []
  }
 ],
 "metadata": {
  "kernelspec": {
   "display_name": "Python 3 (ipykernel)",
   "language": "python",
   "name": "python3"
  },
  "language_info": {
   "codemirror_mode": {
    "name": "ipython",
    "version": 3
   },
   "file_extension": ".py",
   "mimetype": "text/x-python",
   "name": "python",
   "nbconvert_exporter": "python",
   "pygments_lexer": "ipython3",
   "version": "3.12.4"
  }
 },
 "nbformat": 4,
 "nbformat_minor": 5
}
